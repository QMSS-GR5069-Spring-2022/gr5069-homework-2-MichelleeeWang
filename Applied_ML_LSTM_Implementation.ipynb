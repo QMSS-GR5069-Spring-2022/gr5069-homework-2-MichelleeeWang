{
 "cells": [
  {
   "cell_type": "markdown",
   "id": "qxWW2DFkCbCZ",
   "metadata": {
    "id": "qxWW2DFkCbCZ"
   },
   "source": [
    "# LTSM Model for Twitter Sentiment Analysis\n",
    "\n",
    "***Source idea:***https://www.kaggle.com/stoicstatic/twitter-sentiment-analysis-for-beginners/notebook"
   ]
  },
  {
   "cell_type": "markdown",
   "id": "f2d7bd89",
   "metadata": {},
   "source": [
    "\n",
    "## Data Preprocessing (Replacing URL, Emoji, @username)"
   ]
  },
  {
   "cell_type": "code",
   "execution_count": null,
   "id": "w_8NW10oCZAh",
   "metadata": {
    "id": "w_8NW10oCZAh"
   },
   "outputs": [],
   "source": [
    "emojiPattern = {':)': 'smile', ':-)': 'smile', ';d': 'wink', ':-E': 'vampire', ':(': 'sad',  ':-(': 'sad', ':-<': 'sad', \n",
    "          ':P': 'raspberry', ':O': 'surprised', ':-@': 'shocked', ':@': 'shocked',':-$': 'confused', ':\\\\': 'annoyed', \n",
    "          ':#': 'mute', ':X': 'mute', ':^)': 'smile', ':-&': 'confused', '$_$': 'greedy', '@@': 'eyeroll', ';)': 'wink', \n",
    "          ':-!': 'confused', ':-D': 'smile', ':-0': 'yell', 'O.o': 'confused', '<(-_-)>': 'robot', 'd[-_-]b': 'dj', \n",
    "          \":'-)\": 'sadsmile', ';-)': 'wink', 'O:-)': 'angel','O*-)': 'angel','(:-D': 'gossip', '=^.^=': 'cat'}\n",
    "\n",
    "urlPattern = r\"((http://)[^ ]*|(https://)[^ ]*|( www\\.)[^ ]*)\"\n",
    "userPattern = '@[^\\s]+'"
   ]
  },
  {
   "cell_type": "code",
   "execution_count": null,
   "id": "ToVg7c5EDJVT",
   "metadata": {
    "id": "ToVg7c5EDJVT"
   },
   "outputs": [],
   "source": [
    "new_text = []\n",
    "for i in range(len(sentimental_df.text)):\n",
    "    each_tweet = sentimental_df.text.iloc[i].lower()\n",
    "\n",
    "    modified_tweet = re.sub(urlPattern,' URL', each_tweet)\n",
    "    for emoji in emojiPattern.keys():\n",
    "        modified_tweet = modified_tweet.replace(emoji, \"EMOJI_\" + emojiPattern[emoji])        \n",
    "    modified_tweet = re.sub(userPattern,' USERNAME', modified_tweet)  \n",
    "    new_text.append(modified_tweet)\n",
    "\n",
    "sentimental_df['text'] = pd.Series(new_text)"
   ]
  },
  {
   "cell_type": "code",
   "execution_count": null,
   "id": "hk-hDDqhGmLC",
   "metadata": {
    "colab": {
     "base_uri": "https://localhost:8080/"
    },
    "id": "hk-hDDqhGmLC",
    "outputId": "16479167-6fad-40b1-907e-d46c312adc89"
   },
   "outputs": [
    {
     "data": {
      "text/plain": [
       "0           USERNAME  URL - awww, that's a bummer.  you s...\n",
       "1          is upset that he can't update his facebook by ...\n",
       "2           USERNAME i dived many times for the ball. man...\n",
       "3            my whole body feels itchy and like its on fire \n",
       "4           USERNAME no, it's not behaving at all. i'm ma...\n",
       "                                 ...                        \n",
       "1599995    just woke up. having no school is the best fee...\n",
       "1599996    thewdb.com - very cool to hear old walt interv...\n",
       "1599997    are you ready for your mojo makeover? ask me f...\n",
       "1599998    happy 38th birthday to my boo of alll time!!! ...\n",
       "1599999    happy #charitytuesday  USERNAME  USERNAME  USE...\n",
       "Name: text, Length: 1600000, dtype: object"
      ]
     },
     "execution_count": 35,
     "metadata": {},
     "output_type": "execute_result"
    }
   ],
   "source": [
    "sentimental_df.text"
   ]
  },
  {
   "cell_type": "markdown",
   "id": "f81b332c",
   "metadata": {
    "id": "f81b332c"
   },
   "source": [
    "## Running LTSM Model\n"
   ]
  },
  {
   "cell_type": "code",
   "execution_count": 1,
   "id": "750670c3",
   "metadata": {
    "id": "750670c3"
   },
   "outputs": [],
   "source": [
    "from keras.models import Sequential, Model\n",
    "from keras.layers import Dense\n",
    "from keras.layers import LSTM\n",
    "from keras.layers import Dropout\n",
    "from keras.preprocessing.text import Tokenizer\n",
    "from sklearn.model_selection import train_test_split\n",
    "from sklearn.metrics import accuracy_score, precision_score, recall_score, f1_score, confusion_matrix\n",
    "from nltk.corpus import stopwords\n",
    "from keras.layers import *\n",
    "import keras.backend as kb\n",
    "from sklearn.preprocessing import MinMaxScaler\n",
    "from sklearn.metrics import mean_squared_error\n",
    "from sklearn.metrics import mean_absolute_error\n",
    "from keras.preprocessing.sequence import pad_sequences\n",
    "import pandas as pd\n",
    "import numpy as np"
   ]
  },
  {
   "cell_type": "code",
   "execution_count": null,
   "id": "Sg_lLWftrzCI",
   "metadata": {
    "id": "Sg_lLWftrzCI"
   },
   "outputs": [],
   "source": [
    "sentimental_df = pd.read_csv('Sentimental_df_clean.csv')\n",
    "# X_train_embmean = pd.read_csv('X_train_embmean.csv',header=None).values\n",
    "# X_val_embmean = pd.read_csv('X_val_embmean.csv',header=None).values\n",
    "# X_test_embmean = pd.read_csv('X_test_embmean.csv',header=None).values\n",
    "# text = sentimental_df['text']\n",
    "# y = sentimental_df['target']\n"
   ]
  },
  {
   "cell_type": "code",
   "execution_count": null,
   "id": "mEWA9qeQ0CTT",
   "metadata": {
    "colab": {
     "base_uri": "https://localhost:8080/",
     "height": 424
    },
    "id": "mEWA9qeQ0CTT",
    "outputId": "d88383e8-dde7-424e-afd0-33aa23acbea0"
   },
   "outputs": [
    {
     "data": {
      "text/html": [
       "<div>\n",
       "<style scoped>\n",
       "    .dataframe tbody tr th:only-of-type {\n",
       "        vertical-align: middle;\n",
       "    }\n",
       "\n",
       "    .dataframe tbody tr th {\n",
       "        vertical-align: top;\n",
       "    }\n",
       "\n",
       "    .dataframe thead th {\n",
       "        text-align: right;\n",
       "    }\n",
       "</style>\n",
       "<table border=\"1\" class=\"dataframe\">\n",
       "  <thead>\n",
       "    <tr style=\"text-align: right;\">\n",
       "      <th></th>\n",
       "      <th>text</th>\n",
       "      <th>target</th>\n",
       "    </tr>\n",
       "  </thead>\n",
       "  <tbody>\n",
       "    <tr>\n",
       "      <th>0</th>\n",
       "      <td>USERNAME  URL - awww, that's a bummer.  you s...</td>\n",
       "      <td>0</td>\n",
       "    </tr>\n",
       "    <tr>\n",
       "      <th>1</th>\n",
       "      <td>is upset that he can't update his facebook by ...</td>\n",
       "      <td>0</td>\n",
       "    </tr>\n",
       "    <tr>\n",
       "      <th>2</th>\n",
       "      <td>USERNAME i dived many times for the ball. man...</td>\n",
       "      <td>0</td>\n",
       "    </tr>\n",
       "    <tr>\n",
       "      <th>3</th>\n",
       "      <td>my whole body feels itchy and like its on fire</td>\n",
       "      <td>0</td>\n",
       "    </tr>\n",
       "    <tr>\n",
       "      <th>4</th>\n",
       "      <td>USERNAME no, it's not behaving at all. i'm ma...</td>\n",
       "      <td>0</td>\n",
       "    </tr>\n",
       "    <tr>\n",
       "      <th>...</th>\n",
       "      <td>...</td>\n",
       "      <td>...</td>\n",
       "    </tr>\n",
       "    <tr>\n",
       "      <th>1599995</th>\n",
       "      <td>just woke up. having no school is the best fee...</td>\n",
       "      <td>1</td>\n",
       "    </tr>\n",
       "    <tr>\n",
       "      <th>1599996</th>\n",
       "      <td>thewdb.com - very cool to hear old walt interv...</td>\n",
       "      <td>1</td>\n",
       "    </tr>\n",
       "    <tr>\n",
       "      <th>1599997</th>\n",
       "      <td>are you ready for your mojo makeover? ask me f...</td>\n",
       "      <td>1</td>\n",
       "    </tr>\n",
       "    <tr>\n",
       "      <th>1599998</th>\n",
       "      <td>happy 38th birthday to my boo of alll time!!! ...</td>\n",
       "      <td>1</td>\n",
       "    </tr>\n",
       "    <tr>\n",
       "      <th>1599999</th>\n",
       "      <td>happy #charitytuesday  USERNAME  USERNAME  USE...</td>\n",
       "      <td>1</td>\n",
       "    </tr>\n",
       "  </tbody>\n",
       "</table>\n",
       "<p>1600000 rows × 2 columns</p>\n",
       "</div>"
      ],
      "text/plain": [
       "                                                      text  target\n",
       "0         USERNAME  URL - awww, that's a bummer.  you s...       0\n",
       "1        is upset that he can't update his facebook by ...       0\n",
       "2         USERNAME i dived many times for the ball. man...       0\n",
       "3          my whole body feels itchy and like its on fire        0\n",
       "4         USERNAME no, it's not behaving at all. i'm ma...       0\n",
       "...                                                    ...     ...\n",
       "1599995  just woke up. having no school is the best fee...       1\n",
       "1599996  thewdb.com - very cool to hear old walt interv...       1\n",
       "1599997  are you ready for your mojo makeover? ask me f...       1\n",
       "1599998  happy 38th birthday to my boo of alll time!!! ...       1\n",
       "1599999  happy #charitytuesday  USERNAME  USERNAME  USE...       1\n",
       "\n",
       "[1600000 rows x 2 columns]"
      ]
     },
     "execution_count": 46,
     "metadata": {},
     "output_type": "execute_result"
    }
   ],
   "source": [
    "sentimental_df = sentimental_df[['text','target']]\n",
    "sentimental_df"
   ]
  },
  {
   "cell_type": "code",
   "execution_count": null,
   "id": "IktrHqB-0Jur",
   "metadata": {
    "colab": {
     "base_uri": "https://localhost:8080/"
    },
    "id": "IktrHqB-0Jur",
    "outputId": "eac144c2-df30-4ce8-eb2e-62bc1845d21e"
   },
   "outputs": [
    {
     "name": "stdout",
     "output_type": "stream",
     "text": [
      "[nltk_data] Downloading package stopwords to /root/nltk_data...\n",
      "[nltk_data]   Package stopwords is already up-to-date!\n"
     ]
    }
   ],
   "source": [
    "import nltk\n",
    "nltk.download('stopwords')\n",
    "def clean(df,stop_words):\n",
    "  sentimental_df['text'] = sentimental_df['text'].apply(lambda x: ' '.join(x.lower() for x in x.split()))\n",
    "  sentimental_df['text'] = sentimental_df['text'].apply(lambda x: ' '.join(x for x in x.split() if x not in stop_words))\n",
    "  return sentimental_df\n",
    "#  sentimental_df['text'] = sentimental_df['text'].apply(lambda x: [' '.join(x for x in x.split() if x not in stop_words]))\n",
    "stop_words = stopwords.words('english')\n",
    "sent_df = clean(sentimental_df,stop_words)\n"
   ]
  },
  {
   "cell_type": "code",
   "execution_count": null,
   "id": "jS9ogeMrB-Cm",
   "metadata": {
    "colab": {
     "base_uri": "https://localhost:8080/"
    },
    "id": "jS9ogeMrB-Cm",
    "outputId": "c8cb6be0-b938-4ea8-d583-56eb212eb407"
   },
   "outputs": [
    {
     "name": "stdout",
     "output_type": "stream",
     "text": [
      "[nltk_data] Downloading package stopwords to /root/nltk_data...\n",
      "[nltk_data]   Unzipping corpora/stopwords.zip.\n"
     ]
    },
    {
     "data": {
      "text/plain": [
       "True"
      ]
     },
     "execution_count": 9,
     "metadata": {},
     "output_type": "execute_result"
    }
   ],
   "source": [
    "import nltk\n",
    "nltk.download('stopwords')"
   ]
  },
  {
   "cell_type": "code",
   "execution_count": null,
   "id": "U7ykPUlC4fzS",
   "metadata": {
    "id": "U7ykPUlC4fzS"
   },
   "outputs": [],
   "source": [
    "text = sent_df['text']\n",
    "y = sent_df['target']\n",
    "Y = pd.get_dummies(y).values\n",
    "tokenizer = Tokenizer(num_words=500, split=' ') \n",
    "tokenizer.fit_on_texts(text.values)\n",
    "X = tokenizer.texts_to_sequences(text.values)\n",
    "X = pad_sequences(X)"
   ]
  },
  {
   "cell_type": "code",
   "execution_count": null,
   "id": "QIQwzhgRu7l2",
   "metadata": {
    "id": "QIQwzhgRu7l2"
   },
   "outputs": [],
   "source": [
    "# from sklearn.model_selection import train_test_split\n",
    "# X_dev, X_test, y_dev, y_test = train_test_split(X,y, test_size=0.2, random_state=42)\n",
    "# X_train, X_val, y_train, y_val = train_test_split(X_dev, y_dev, test_size=0.25, random_state=42)"
   ]
  },
  {
   "cell_type": "code",
   "execution_count": null,
   "id": "42a13bac",
   "metadata": {
    "id": "42a13bac"
   },
   "outputs": [],
   "source": []
  },
  {
   "cell_type": "code",
   "execution_count": null,
   "id": "64ba73dc",
   "metadata": {
    "colab": {
     "base_uri": "https://localhost:8080/"
    },
    "id": "64ba73dc",
    "outputId": "fe518abc-77d7-465c-e906-8aff336ee1bf"
   },
   "outputs": [
    {
     "data": {
      "text/plain": [
       "(960000, 100)"
      ]
     },
     "execution_count": 118,
     "metadata": {},
     "output_type": "execute_result"
    }
   ],
   "source": [
    "X_train_embmean.shape"
   ]
  },
  {
   "cell_type": "code",
   "execution_count": null,
   "id": "da408fe4",
   "metadata": {
    "colab": {
     "base_uri": "https://localhost:8080/"
    },
    "id": "da408fe4",
    "outputId": "19d626f0-fea9-4681-e594-4306d3cb5ced"
   },
   "outputs": [
    {
     "data": {
      "text/plain": [
       "array(['username u sing...you usually sing genre ...whether people accept genre... remains seen',\n",
       "       'username nuggets redsox lost im going baseball game suprised called hate wake 6:30 ...',\n",
       "       'username call can, want know whats going on...', ...,\n",
       "       'disappointed sound quality educamp09 - especially recordings.',\n",
       "       'finished work good times need rest bball game tomorrow :-d wish luck night yalllll',\n",
       "       \"username how'd get home already?!?!?! nooooo fair!!\"],\n",
       "      dtype=object)"
      ]
     },
     "execution_count": 33,
     "metadata": {},
     "output_type": "execute_result"
    }
   ],
   "source": [
    "X_train.values"
   ]
  },
  {
   "cell_type": "code",
   "execution_count": null,
   "id": "3c4ffa1f",
   "metadata": {
    "id": "3c4ffa1f"
   },
   "outputs": [],
   "source": [
    "from sklearn.model_selection import train_test_split"
   ]
  },
  {
   "cell_type": "code",
   "execution_count": null,
   "id": "AhPGlYdt8Uvg",
   "metadata": {
    "colab": {
     "base_uri": "https://localhost:8080/"
    },
    "id": "AhPGlYdt8Uvg",
    "outputId": "9da6c2a8-ece5-40a8-a5cf-ee1729e5eced"
   },
   "outputs": [
    {
     "name": "stdout",
     "output_type": "stream",
     "text": [
      "WARNING:tensorflow:Layer lstm_3 will not use cuDNN kernels since it doesn't meet the criteria. It will use a generic GPU kernel as fallback when running on GPU.\n",
      "Model: \"sequential_3\"\n",
      "_________________________________________________________________\n",
      " Layer (type)                Output Shape              Param #   \n",
      "=================================================================\n",
      " embedding_3 (Embedding)     (None, 46, 120)           60000     \n",
      "                                                                 \n",
      " spatial_dropout1d_3 (Spatia  (None, 46, 120)          0         \n",
      " lDropout1D)                                                     \n",
      "                                                                 \n",
      " lstm_3 (LSTM)               (None, 176)               209088    \n",
      "                                                                 \n",
      " dense_3 (Dense)             (None, 2)                 354       \n",
      "                                                                 \n",
      "=================================================================\n",
      "Total params: 269,442\n",
      "Trainable params: 269,442\n",
      "Non-trainable params: 0\n",
      "_________________________________________________________________\n",
      "None\n"
     ]
    }
   ],
   "source": [
    "model = Sequential()\n",
    "model.add(Embedding(500, 120, input_length = X.shape[1]))\n",
    "model.add(SpatialDropout1D(0.4))\n",
    "model.add(LSTM(176, dropout=0.2, recurrent_dropout=0.2))\n",
    "model.add(Dense(2,activation='softmax'))\n",
    "model.compile(loss = 'categorical_crossentropy', optimizer='adam', metrics = ['accuracy'])\n",
    "print(model.summary())"
   ]
  },
  {
   "cell_type": "code",
   "execution_count": null,
   "id": "VRVaqRAr8pK4",
   "metadata": {
    "id": "VRVaqRAr8pK4"
   },
   "outputs": [],
   "source": [
    "X_train, X_test, y_train, y_test = train_test_split(X,Y, test_size=0.2, random_state=42)\n",
    "#X_train, X_val, y_train, y_val = train_test_split(X_dev, y_dev, test_size=0.25, random_state=42)"
   ]
  },
  {
   "cell_type": "code",
   "execution_count": null,
   "id": "5Iy0Bmg6-6C5",
   "metadata": {
    "colab": {
     "base_uri": "https://localhost:8080/"
    },
    "id": "5Iy0Bmg6-6C5",
    "outputId": "bd4389c4-7bba-4db0-f06d-5662e2d4d2c3"
   },
   "outputs": [
    {
     "name": "stdout",
     "output_type": "stream",
     "text": [
      "Epoch 1/5\n",
      "3750/3750 [==============================] - 503s 133ms/step - loss: 0.5349 - accuracy: 0.7252 - val_loss: 0.5242 - val_accuracy: 0.7346\n",
      "Epoch 2/5\n",
      "3750/3750 [==============================] - 492s 131ms/step - loss: 0.5226 - accuracy: 0.7340 - val_loss: 0.5188 - val_accuracy: 0.7365\n",
      "Epoch 3/5\n",
      "3750/3750 [==============================] - 513s 137ms/step - loss: 0.5186 - accuracy: 0.7370 - val_loss: 0.5163 - val_accuracy: 0.7383\n",
      "Epoch 4/5\n",
      "3750/3750 [==============================] - 498s 133ms/step - loss: 0.5158 - accuracy: 0.7385 - val_loss: 0.5147 - val_accuracy: 0.7397\n",
      "Epoch 5/5\n",
      "3750/3750 [==============================] - 494s 132ms/step - loss: 0.5133 - accuracy: 0.7402 - val_loss: 0.5128 - val_accuracy: 0.7420\n"
     ]
    },
    {
     "data": {
      "text/plain": [
       "<keras.callbacks.History at 0x7f1f8639d9d0>"
      ]
     },
     "execution_count": 51,
     "metadata": {},
     "output_type": "execute_result"
    }
   ],
   "source": [
    "batch_size=256\n",
    "model.fit(X_train, y_train, epochs = 5, validation_split= 0.25,batch_size=batch_size,validation_steps=100, verbose = 'auto')"
   ]
  },
  {
   "cell_type": "code",
   "execution_count": null,
   "id": "1jxqP6hitkXY",
   "metadata": {
    "id": "1jxqP6hitkXY"
   },
   "outputs": [],
   "source": [
    "predictions = model.predict(X_test)\n"
   ]
  },
  {
   "cell_type": "code",
   "execution_count": null,
   "id": "A7G4XnyEvVzQ",
   "metadata": {
    "id": "A7G4XnyEvVzQ"
   },
   "outputs": [],
   "source": [
    "y_pred = np.argmax(predictions,axis=1)\n",
    "y_test_shaped = np.argmax(y_test,axis=1)"
   ]
  },
  {
   "cell_type": "code",
   "execution_count": null,
   "id": "MxtGPpJQw3jT",
   "metadata": {
    "colab": {
     "base_uri": "https://localhost:8080/"
    },
    "id": "MxtGPpJQw3jT",
    "outputId": "5fd3f873-b48e-4847-f7f2-8ce4858c1266"
   },
   "outputs": [
    {
     "name": "stdout",
     "output_type": "stream",
     "text": [
      "Accuracy Score : 0.742203125\n",
      "Precision Score : 0.7366709342329606\n",
      "Recall Score : 0.7564203207356734\n",
      "F1 Score : 0.7464150131411094\n",
      "AUC ROC Score: 0.8244205036456278\n"
     ]
    }
   ],
   "source": [
    "# \n",
    "from sklearn.metrics import roc_auc_score\n",
    "print('Accuracy Score : ' + str(accuracy_score(y_test_shaped,y_pred)))\n",
    "print('Precision Score : ' + str(precision_score(y_test_shaped,y_pred)))\n",
    "print('Recall Score : ' + str(recall_score(y_test_shaped,y_pred)))\n",
    "print('F1 Score : ' + str(f1_score(y_test_shaped,y_pred)))\n",
    "print('AUC ROC Score: '+ str(roc_auc_score(y_test_shaped,predictions[:,1])))"
   ]
  },
  {
   "cell_type": "code",
   "execution_count": null,
   "id": "69Rlexlyydoq",
   "metadata": {
    "colab": {
     "base_uri": "https://localhost:8080/"
    },
    "id": "69Rlexlyydoq",
    "outputId": "7af85f0f-513f-455b-c042-58f4c6fc0997"
   },
   "outputs": [
    {
     "data": {
      "text/plain": [
       "array([[107458,  52036],\n",
       "       [ 42029, 118477]])"
      ]
     },
     "execution_count": 43,
     "metadata": {},
     "output_type": "execute_result"
    }
   ],
   "source": [
    "confusion_matrix(y_test_shaped,y_pred)"
   ]
  },
  {
   "cell_type": "code",
   "execution_count": null,
   "id": "eWbrPmLmxKhv",
   "metadata": {
    "colab": {
     "base_uri": "https://localhost:8080/"
    },
    "id": "eWbrPmLmxKhv",
    "outputId": "444b6a2e-8ccc-4448-9914-07d401317e75"
   },
   "outputs": [
    {
     "data": {
      "text/plain": [
       "0.8244205036456278"
      ]
     },
     "execution_count": 57,
     "metadata": {},
     "output_type": "execute_result"
    }
   ],
   "source": [
    "\n",
    "\n",
    "\n",
    "text = sent_df['text']\n",
    "y = sent_df['target']\n",
    "Y = pd.get_dummies(y).values\n",
    "tokenizer = Tokenizer(num_words=500, split=' ') \n",
    "tokenizer.fit_on_texts(text.values)\n",
    "X = tokenizer.texts_to_matrix(text.values,mode='tfidf')\n",
    "X = pad_sequences(X)\n",
    "\n",
    "model_ = Sequential()\n",
    "model_.add(Embedding(500, 120, input_length = X.shape[1]))\n",
    "model_.add(SpatialDropout1D(0.4))\n",
    "model_.add(LSTM(176, dropout=0.2, recurrent_dropout=0.2))\n",
    "model_.add(Dense(2,activation='softmax'))\n",
    "model_.compile(loss = 'categorical_crossentropy', optimizer='adam', metrics = ['accuracy'])\n",
    "print(model_.summary())\n",
    "\n",
    "X_train, X_test, y_train, y_test = train_test_split(X,Y, test_size=0.2, random_state=42)\n",
    "batch_size=256\n",
    "model.fit(X_train, y_train, epochs = 5, validation_split= 0.25,batch_size=batch_size,validation_steps=100, verbose = 'auto')\n",
    "\n"
   ]
  },
  {
   "cell_type": "code",
   "execution_count": null,
   "id": "e7zUIDDLmwOC",
   "metadata": {
    "id": "e7zUIDDLmwOC"
   },
   "outputs": [],
   "source": [
    "predictions = model.predict(X_test)\n",
    "y_pred = np.argmax(predictions,axis=1)\n",
    "y_test_shaped = np.argmax(y_test,axis=1)"
   ]
  },
  {
   "cell_type": "code",
   "execution_count": null,
   "id": "uXKw1mK-uwVM",
   "metadata": {
    "id": "uXKw1mK-uwVM"
   },
   "outputs": [],
   "source": [
    "import pandas as pd\n",
    "import numpy as np"
   ]
  },
  {
   "cell_type": "code",
   "execution_count": null,
   "id": "3g1RCAz3vnbK",
   "metadata": {
    "colab": {
     "base_uri": "https://localhost:8080/"
    },
    "id": "3g1RCAz3vnbK",
    "outputId": "dc25cadc-e5de-442c-fa70-716c2b9aea2c"
   },
   "outputs": [
    {
     "name": "stdout",
     "output_type": "stream",
     "text": [
      "Mounted at /content/drive\n"
     ]
    }
   ],
   "source": [
    "from google.colab import drive\n",
    "drive.mount('/content/drive')"
   ]
  },
  {
   "cell_type": "code",
   "execution_count": null,
   "id": "Nr3dmuFRBSky",
   "metadata": {
    "id": "Nr3dmuFRBSky"
   },
   "outputs": [],
   "source": [
    "cd 'drive/Shareddrives/Applied Machine Learning'"
   ]
  },
  {
   "cell_type": "markdown",
   "id": "WERM9f4Tahmz",
   "metadata": {
    "id": "WERM9f4Tahmz"
   },
   "source": [
    "## Rough Code"
   ]
  },
  {
   "cell_type": "code",
   "execution_count": null,
   "id": "a1c05ff4",
   "metadata": {
    "id": "a1c05ff4"
   },
   "outputs": [],
   "source": [
    "\n",
    "def generator_create(batch_size=128):\n",
    "    input_arr = np.zeros((batch_size,100))\n",
    "    output_arr = np.zeros((batch_size,2))\n",
    "    count = 1\n",
    "    while True:\n",
    "        for i in range(0,X_train_embmean.shape[0]):\n",
    "            input_arr[i] = X_train_embmean[i]\n",
    "            output_arr[i][y_train[i]] = 1\n",
    "            \n",
    "            if count == 128:\n",
    "                temp_sequence = (input_arr,output_arr)\n",
    "                count = 0\n",
    "                input_arr = np.zeros((batch_size,100))\n",
    "                output_arr = np.zeros((batch_size,2))\n",
    "                yield temp_sequence\n",
    "            \n",
    "            count+=1    \n",
    "                \n",
    "\n",
    "\n",
    "def develop_model():\n",
    "    model_1 = Sequential()\n",
    "    model_1.add(LSTM(128,return_sequences = True,input_shape=(128,100)))\n",
    "    model_1.add(Dropout(0.2))\n",
    "    model_1.add(LSTM(24))\n",
    "    model_1.add(Dropout(0.2))\n",
    "    model_1.add(Dense(2,activation='softmax'))\n",
    "    model_1.compile(optimizer = 'adam', loss = 'binary_crossentropy')\n",
    "    model_1.summary()\n",
    "    return model_1\n",
    "\n",
    "def develop_model_without_gen(X_train):\n",
    "    model_1 = Sequential()\n",
    "    # model_1.add(LSTM(128))\n",
    "    model_1.add(Dense(128,input_dim=(X_train.shape[1])))\n",
    "    # model_1.add(LSTM(128,return_sequences = True))\n",
    "    # model_1.add(LSTM(128,return_sequences = True,input_shape=(X_train.shape[1],X_train_shape[2])))\n",
    "    model_1.add(Dropout(0.2))\n",
    "    model_1.add(Dense(2,activation='softmax'))\n",
    "    model_1.compile(optimizer = 'adam', loss = 'binary_crossentropy')\n",
    "    model_1.summary()\n",
    "    return model_1\n",
    "    "
   ]
  },
  {
   "cell_type": "code",
   "execution_count": null,
   "id": "KPSiA6A6Me5p",
   "metadata": {
    "id": "KPSiA6A6Me5p"
   },
   "outputs": [],
   "source": [
    "# model_1 = Sequential()\n",
    "# model_1.add(LSTM(128,return_sequences = True,input_shape=(128,100)))\n",
    "# model_1.add(Dropout(0.2)) \n",
    "# model_1.add(Dense(2,activation='softmax'))\n",
    "\n",
    "# model_1.compile(optimizer = 'adam', loss = 'binary_crossentropy')\n",
    "\n",
    "# model_1.summary()\n",
    "# print(model_1.output_shape)"
   ]
  },
  {
   "cell_type": "code",
   "execution_count": null,
   "id": "bd13f3b2",
   "metadata": {
    "id": "bd13f3b2"
   },
   "outputs": [],
   "source": [
    "# batch_size = 128\n",
    "# MAX_LEN = 100\n",
    "# generator = generator_create(batch_size)\n",
    "# steps = len(y_train) * MAX_LEN // batch_size\n",
    "# model = develop_model()\n",
    "# model.fit_generator(generator,steps_per_epoch = steps,verbose=True,epochs=5)"
   ]
  },
  {
   "cell_type": "code",
   "execution_count": null,
   "id": "UWuXAASnvf37",
   "metadata": {
    "colab": {
     "base_uri": "https://localhost:8080/"
    },
    "id": "UWuXAASnvf37",
    "outputId": "39cc5b28-8cc0-4770-d515-361dc16b71e0"
   },
   "outputs": [
    {
     "data": {
      "text/plain": [
       "(960000, 1)"
      ]
     },
     "execution_count": 129,
     "metadata": {},
     "output_type": "execute_result"
    }
   ],
   "source": [
    "np.array(y_train).reshape(-1,1).shape"
   ]
  },
  {
   "cell_type": "code",
   "execution_count": null,
   "id": "JW0A5PtjvjH9",
   "metadata": {
    "id": "JW0A5PtjvjH9"
   },
   "outputs": [],
   "source": [
    "Y_train = np.array(y_train)\n",
    "y_train_one_hot = np.zeros((Y_train.shape[0], Y_train.max()+1))\n",
    "y_train_one_hot[np.arange(Y_train.size),Y_train] = 1\n",
    "X_train_reshaped = np.reshape(X_train_embmean, (X_train_embmean.shape[0],1,X_train_embmean.shape[1]))"
   ]
  },
  {
   "cell_type": "code",
   "execution_count": null,
   "id": "jOK1S_41yhHJ",
   "metadata": {
    "colab": {
     "base_uri": "https://localhost:8080/"
    },
    "id": "jOK1S_41yhHJ",
    "outputId": "a41847d3-6f8e-4d78-c245-71a77135db38"
   },
   "outputs": [
    {
     "data": {
      "text/plain": [
       "(960000, 100)"
      ]
     },
     "execution_count": 131,
     "metadata": {},
     "output_type": "execute_result"
    }
   ],
   "source": [
    "X_train_embmean.shape"
   ]
  },
  {
   "cell_type": "code",
   "execution_count": null,
   "id": "eTc-mBpyOjXh",
   "metadata": {
    "colab": {
     "base_uri": "https://localhost:8080/"
    },
    "id": "eTc-mBpyOjXh",
    "outputId": "ce996e65-4a75-4c2c-bbcc-2cac2dd430dd"
   },
   "outputs": [
    {
     "data": {
      "text/plain": [
       "(960000,)"
      ]
     },
     "execution_count": 132,
     "metadata": {},
     "output_type": "execute_result"
    }
   ],
   "source": [
    "X_train.shape"
   ]
  },
  {
   "cell_type": "code",
   "execution_count": null,
   "id": "oCspOdDOONda",
   "metadata": {
    "colab": {
     "base_uri": "https://localhost:8080/"
    },
    "id": "oCspOdDOONda",
    "outputId": "c06078a7-da32-4231-8b08-b187dc16ff95"
   },
   "outputs": [
    {
     "data": {
      "text/plain": [
       "(960000, 1, 100)"
      ]
     },
     "execution_count": 133,
     "metadata": {},
     "output_type": "execute_result"
    }
   ],
   "source": [
    "X_train_reshaped.shape"
   ]
  },
  {
   "cell_type": "code",
   "execution_count": null,
   "id": "QNLPdklMR6vp",
   "metadata": {
    "colab": {
     "base_uri": "https://localhost:8080/"
    },
    "id": "QNLPdklMR6vp",
    "outputId": "56e7d64c-ae03-48b3-f5fc-524a7c1c366d"
   },
   "outputs": [
    {
     "data": {
      "text/plain": [
       "(960000, 100)"
      ]
     },
     "execution_count": 134,
     "metadata": {},
     "output_type": "execute_result"
    }
   ],
   "source": [
    "X_train_reshaped.squeeze().shape"
   ]
  },
  {
   "cell_type": "code",
   "execution_count": null,
   "id": "c998ae1d",
   "metadata": {
    "colab": {
     "base_uri": "https://localhost:8080/"
    },
    "id": "c998ae1d",
    "outputId": "97a7229d-81d8-4c12-db82-3962eb71ddff"
   },
   "outputs": [
    {
     "name": "stdout",
     "output_type": "stream",
     "text": [
      "Model: \"sequential_31\"\n",
      "_________________________________________________________________\n",
      " Layer (type)                Output Shape              Param #   \n",
      "=================================================================\n",
      " dense_27 (Dense)            (None, 128)               12928     \n",
      "                                                                 \n",
      " dropout_32 (Dropout)        (None, 128)               0         \n",
      "                                                                 \n",
      " dense_28 (Dense)            (None, 2)                 258       \n",
      "                                                                 \n",
      "=================================================================\n",
      "Total params: 13,186\n",
      "Trainable params: 13,186\n",
      "Non-trainable params: 0\n",
      "_________________________________________________________________\n",
      "Epoch 1/5\n",
      "30000/30000 [==============================] - 72s 2ms/step - loss: 0.5407\n",
      "Epoch 2/5\n",
      "30000/30000 [==============================] - 65s 2ms/step - loss: 0.5377\n",
      "Epoch 3/5\n",
      "30000/30000 [==============================] - 65s 2ms/step - loss: 0.5375\n",
      "Epoch 4/5\n",
      "30000/30000 [==============================] - 67s 2ms/step - loss: 0.5373\n",
      "Epoch 5/5\n",
      "30000/30000 [==============================] - 73s 2ms/step - loss: 0.5371\n"
     ]
    },
    {
     "data": {
      "text/plain": [
       "<keras.callbacks.History at 0x7f9a3dbf2cd0>"
      ]
     },
     "execution_count": 139,
     "metadata": {},
     "output_type": "execute_result"
    }
   ],
   "source": [
    "model = develop_model_without_gen(X_train_reshaped.squeeze())\n",
    "model.fit(X_train_reshaped.squeeze(),y_train_one_hot,epochs=5,batch_size=32)"
   ]
  },
  {
   "cell_type": "code",
   "execution_count": null,
   "id": "ed40feb4",
   "metadata": {
    "colab": {
     "base_uri": "https://localhost:8080/"
    },
    "id": "ed40feb4",
    "outputId": "3a3173fa-a3d2-4165-e702-2759d4ce0d01"
   },
   "outputs": [
    {
     "data": {
      "text/plain": [
       "(960000, 100)"
      ]
     },
     "execution_count": 99,
     "metadata": {},
     "output_type": "execute_result"
    }
   ],
   "source": [
    "X_train_embmean.shape"
   ]
  },
  {
   "cell_type": "code",
   "execution_count": null,
   "id": "oNI6fUqczPJe",
   "metadata": {
    "id": "oNI6fUqczPJe"
   },
   "outputs": [],
   "source": []
  }
 ],
 "metadata": {
  "accelerator": "GPU",
  "colab": {
   "collapsed_sections": [
    "WERM9f4Tahmz"
   ],
   "name": "Applied ML LSTM Implementation.ipynb",
   "provenance": []
  },
  "kernelspec": {
   "display_name": "Python 3",
   "language": "python",
   "name": "python3"
  },
  "language_info": {
   "codemirror_mode": {
    "name": "ipython",
    "version": 3
   },
   "file_extension": ".py",
   "mimetype": "text/x-python",
   "name": "python",
   "nbconvert_exporter": "python",
   "pygments_lexer": "ipython3",
   "version": "3.8.8"
  }
 },
 "nbformat": 4,
 "nbformat_minor": 5
}
